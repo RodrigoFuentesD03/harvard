{
  "nbformat": 4,
  "nbformat_minor": 0,
  "metadata": {
    "colab": {
      "provenance": [],
      "authorship_tag": "ABX9TyM/tMi8xQ5ou+C44jG9kaUV",
      "include_colab_link": true
    },
    "kernelspec": {
      "name": "python3",
      "display_name": "Python 3"
    },
    "language_info": {
      "name": "python"
    }
  },
  "cells": [
    {
      "cell_type": "markdown",
      "metadata": {
        "id": "view-in-github",
        "colab_type": "text"
      },
      "source": [
        "<a href=\"https://colab.research.google.com/github/RodrigoFuentesD03/harvard/blob/main/calculator.ipynb\" target=\"_parent\"><img src=\"https://colab.research.google.com/assets/colab-badge.svg\" alt=\"Open In Colab\"/></a>"
      ]
    },
    {
      "cell_type": "code",
      "execution_count": 16,
      "metadata": {
        "colab": {
          "base_uri": "https://localhost:8080/"
        },
        "id": "4DJB-3cdA9Ui",
        "outputId": "e7db6aa1-98b6-424d-db94-c0c26adf6e0d"
      },
      "outputs": [
        {
          "output_type": "stream",
          "name": "stdout",
          "text": [
            "What´s x? 2\n",
            "What´s y?4567.5\n",
            "4,570\n"
          ]
        }
      ],
      "source": [
        "x = float(input(\"What´s x?\").strip())\n",
        "y = float(input(\"What´s y?\").strip())\n",
        "z = round(x + y)\n",
        "print(f\"{z:,}\")"
      ]
    },
    {
      "cell_type": "code",
      "source": [
        "def main():\n",
        "  x = int(input(\"What´s x?\"))\n",
        "  print(\"x squared is\", square(x))\n",
        "\n",
        "def square(n):\n",
        "  return n * n\n",
        "\n",
        "main()"
      ],
      "metadata": {
        "colab": {
          "base_uri": "https://localhost:8080/"
        },
        "id": "XxXSVgSGImfl",
        "outputId": "7490ecec-1352-455c-dc11-b0e62ed2e71b"
      },
      "execution_count": 15,
      "outputs": [
        {
          "output_type": "stream",
          "name": "stdout",
          "text": [
            "What´s x?3\n",
            "x squared is 9\n"
          ]
        }
      ]
    }
  ]
}