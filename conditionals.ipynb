{
  "nbformat": 4,
  "nbformat_minor": 0,
  "metadata": {
    "colab": {
      "provenance": [],
      "authorship_tag": "ABX9TyM8pDlBx2q4kgX2MeAUA4al",
      "include_colab_link": true
    },
    "kernelspec": {
      "name": "python3",
      "display_name": "Python 3"
    },
    "language_info": {
      "name": "python"
    }
  },
  "cells": [
    {
      "cell_type": "markdown",
      "metadata": {
        "id": "view-in-github",
        "colab_type": "text"
      },
      "source": [
        "<a href=\"https://colab.research.google.com/github/RodrigoFuentesD03/harvard/blob/main/conditionals.ipynb\" target=\"_parent\"><img src=\"https://colab.research.google.com/assets/colab-badge.svg\" alt=\"Open In Colab\"/></a>"
      ]
    },
    {
      "cell_type": "code",
      "source": [
        "#if\n",
        "#elif\n",
        "#else"
      ],
      "metadata": {
        "id": "zfmU6yHvhnt0"
      },
      "execution_count": 2,
      "outputs": []
    },
    {
      "cell_type": "code",
      "execution_count": 10,
      "metadata": {
        "colab": {
          "base_uri": "https://localhost:8080/"
        },
        "id": "h_rgLS2oL8Mv",
        "outputId": "dd6d21f4-1ebe-4c3b-ed4f-20e965455ee3"
      },
      "outputs": [
        {
          "output_type": "stream",
          "name": "stdout",
          "text": [
            "What´s x?2\n",
            "What´s y?2\n",
            "x is equal to y\n"
          ]
        }
      ],
      "source": [
        "x = float(input(\"What´s x?\"))\n",
        "y = float(input(\"What´s y?\"))\n",
        "\n",
        "if x < y:\n",
        "  print(\"x is less than y\")\n",
        "elif x > y:\n",
        "  print(\"x is greater than y\")\n",
        "else:\n",
        "  print(\"x is equal to y\")"
      ]
    },
    {
      "cell_type": "code",
      "source": [
        "score = int(input(\"What´s your score?\"))\n",
        "\n",
        "if score >= 90:\n",
        "  print(\"Grade: A\")\n",
        "elif score >= 80:\n",
        "  print(\"Grade: B\")\n",
        "else:\n",
        "  print(\"You failed this class\")"
      ],
      "metadata": {
        "colab": {
          "base_uri": "https://localhost:8080/"
        },
        "id": "6AtEek9iUp4n",
        "outputId": "23807bae-e670-4867-e2cc-e1efa5c25aee"
      },
      "execution_count": 31,
      "outputs": [
        {
          "output_type": "stream",
          "name": "stdout",
          "text": [
            "What´s your score?80\n",
            "Grade: B\n"
          ]
        }
      ]
    },
    {
      "cell_type": "code",
      "source": [
        "x = float(input(\"What´s x?\"))\n",
        "\n",
        "if x % 2 == 0:\n",
        "  print(\"Even\")\n",
        "else:\n",
        "  print(\"Odd\")"
      ],
      "metadata": {
        "colab": {
          "base_uri": "https://localhost:8080/"
        },
        "id": "lXXHwkmKXXco",
        "outputId": "72cdfece-b707-4f7a-c394-d90bc977fa68"
      },
      "execution_count": 35,
      "outputs": [
        {
          "output_type": "stream",
          "name": "stdout",
          "text": [
            "What´s x?5\n",
            "Odd\n"
          ]
        }
      ]
    },
    {
      "cell_type": "code",
      "source": [
        "#Parity\n",
        "def main():\n",
        "  x = int(input(\"What´s x?\"))\n",
        "  if is_even(x):\n",
        "    print(\"Even\")\n",
        "  else:\n",
        "    print(\"Odd\")\n",
        "\n",
        "def is_even(n):\n",
        "  return n % 2 == 0\n",
        "\n",
        "main()"
      ],
      "metadata": {
        "colab": {
          "base_uri": "https://localhost:8080/"
        },
        "id": "FgoeNSQoX42t",
        "outputId": "9dbe095c-16fe-4ff3-c7f4-59f6cb1b0c4b"
      },
      "execution_count": 46,
      "outputs": [
        {
          "output_type": "stream",
          "name": "stdout",
          "text": [
            "What´s x?45\n",
            "Odd\n"
          ]
        }
      ]
    },
    {
      "cell_type": "code",
      "source": [
        "#House\n",
        "name = input(\"What´s your name?\")\n",
        "\n",
        "if name == \"Harry\" or name == \"Hermione\":\n",
        "  print(\"Gryffindor\")\n",
        "elif name == \"Malfoy\":\n",
        "  print(\"Slytherin\")\n",
        "else:\n",
        "  print(\"Who?\")"
      ],
      "metadata": {
        "colab": {
          "base_uri": "https://localhost:8080/"
        },
        "id": "JfWHMmDplP2-",
        "outputId": "16830af6-dedd-4682-8295-6a4aab2375b2"
      },
      "execution_count": 54,
      "outputs": [
        {
          "output_type": "stream",
          "name": "stdout",
          "text": [
            "What´s your name?Hermione\n",
            "Gryffindor\n"
          ]
        }
      ]
    },
    {
      "cell_type": "code",
      "source": [
        "#Match function\n",
        "name = input(\"What´s your name?\").title()\n",
        "\n",
        "match name:\n",
        "  case \"Harry\" | \"Hermione\" | \"Ron\":\n",
        "    print(\"Gryffindor\")\n",
        "  case \"Malfoy\":\n",
        "    print(\"Slytherin\")\n",
        "  case _:\n",
        "    print(\"Who?\")"
      ],
      "metadata": {
        "colab": {
          "base_uri": "https://localhost:8080/"
        },
        "id": "lqNik_IymMme",
        "outputId": "fcf0b0dd-61b3-4072-ee45-187d9ea0dd84"
      },
      "execution_count": 61,
      "outputs": [
        {
          "output_type": "stream",
          "name": "stdout",
          "text": [
            "What´s your name?malfoy\n",
            "Slytherin\n"
          ]
        }
      ]
    },
    {
      "cell_type": "code",
      "source": [
        "#Recommendation Games\n",
        "def main():\n",
        "  difficulty = input(\"Difficult or Casual?\").title().strip()\n",
        "  players = input(\"Multiplayer or Single?\").title().strip()\n",
        "\n",
        "  if difficulty == \"Difficult\":\n",
        "    if players == \"Multiplayer\":\n",
        "      recommend(\"Poker\")\n",
        "    elif players == \"Single\":\n",
        "      recommend(\"Blackjack\")\n",
        "    else:\n",
        "      print(\"Enter a valid number of players\")\n",
        "\n",
        "\n",
        "  elif difficulty == \"Casual\":\n",
        "    if players == \"Multiplayer\":\n",
        "      recommend(\"Go Fish\")\n",
        "    elif players == \"Single\":\n",
        "      recommend(\"Solitaire\")\n",
        "    else:\n",
        "      print(\"Enter a valid number of players\")\n",
        "\n",
        "  else:\n",
        "    print(\"Enter a valid difficulty\")\n",
        "\n",
        "\n",
        "def recommend(game):\n",
        "  print(\"You might like\", game)\n",
        "\n",
        "main()"
      ],
      "metadata": {
        "colab": {
          "base_uri": "https://localhost:8080/"
        },
        "id": "kygSqRvToTAn",
        "outputId": "8e969e83-f9a8-4a62-e7d8-c1aadae9e2df"
      },
      "execution_count": 76,
      "outputs": [
        {
          "output_type": "stream",
          "name": "stdout",
          "text": [
            "Difficult or Casual?normal\n",
            "Multiplayer or Single?Single\n",
            "Enter a valid difficulty\n"
          ]
        }
      ]
    },
    {
      "cell_type": "code",
      "source": [
        "#Using Boolean Expressions\n",
        "def main():\n",
        "  difficulty = input(\"Difficult or Casual?\").title().strip()\n",
        "  if not (difficulty == \"Difficult\" or difficulty == \"Casual\"):\n",
        "    print(\"Enter a valid difficulty\")\n",
        "    return\n",
        "\n",
        "  players = input(\"Multiplayer or Single?\").title().strip()\n",
        "  if not (players == \"Multiplayer\" or players == \"Single\"):\n",
        "    print(\"Enter a valid number of players\")\n",
        "    return\n",
        "\n",
        "  if difficulty == \"Difficult\" and players == \"Multiplayer\":\n",
        "    recommend(\"Poker\")\n",
        "  elif difficulty == \"Difficultr\" and players == \"Single\":\n",
        "    recommend(\"Blackjack\")\n",
        "  elif difficulty == \"Casual\" and players == \"Multiplayer\":\n",
        "    recommend(\"Go Fish\")\n",
        "  else:\n",
        "    recommend(\"Solitaire\")\n",
        "\n",
        "def recommend(game):\n",
        "  print(\"You might like\", game)\n",
        "\n",
        "main()"
      ],
      "metadata": {
        "colab": {
          "base_uri": "https://localhost:8080/"
        },
        "id": "mVfIUyoqtOBT",
        "outputId": "ecdbbe04-43bf-48f2-ea4b-17f7dafaae7f"
      },
      "execution_count": 86,
      "outputs": [
        {
          "output_type": "stream",
          "name": "stdout",
          "text": [
            "Difficult or Casual?normal\n",
            "Enter a valid difficulty\n"
          ]
        }
      ]
    }
  ]
}