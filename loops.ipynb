{
  "nbformat": 4,
  "nbformat_minor": 0,
  "metadata": {
    "colab": {
      "provenance": [],
      "authorship_tag": "ABX9TyO57zKqpZdmZriia5NkT0Pd",
      "include_colab_link": true
    },
    "kernelspec": {
      "name": "python3",
      "display_name": "Python 3"
    },
    "language_info": {
      "name": "python"
    }
  },
  "cells": [
    {
      "cell_type": "markdown",
      "metadata": {
        "id": "view-in-github",
        "colab_type": "text"
      },
      "source": [
        "<a href=\"https://colab.research.google.com/github/RodrigoFuentesD03/harvard/blob/main/loops.ipynb\" target=\"_parent\"><img src=\"https://colab.research.google.com/assets/colab-badge.svg\" alt=\"Open In Colab\"/></a>"
      ]
    },
    {
      "cell_type": "code",
      "execution_count": null,
      "metadata": {
        "id": "Ka_R6IM5hb3B"
      },
      "outputs": [],
      "source": [
        "#while\n",
        "#for\n",
        "#range\n",
        "#len or length\n",
        "#dict or dictionaries {}\n",
        "#lists []"
      ]
    },
    {
      "cell_type": "code",
      "source": [
        "i = 0\n",
        "while i < 3:\n",
        "  print(\"meow\")\n",
        "  i = i + 1"
      ],
      "metadata": {
        "colab": {
          "base_uri": "https://localhost:8080/"
        },
        "collapsed": true,
        "id": "OD34dq7Fh76b",
        "outputId": "8bd385dd-46ab-4d93-ec29-5b00cbb91844"
      },
      "execution_count": 5,
      "outputs": [
        {
          "output_type": "stream",
          "name": "stdout",
          "text": [
            "meow\n",
            "meow\n",
            "meow\n"
          ]
        }
      ]
    },
    {
      "cell_type": "code",
      "source": [
        "for i in [0,1,2]:\n",
        "  print(\"meow\")"
      ],
      "metadata": {
        "colab": {
          "base_uri": "https://localhost:8080/"
        },
        "collapsed": true,
        "id": "AZU9-Q7sj2ro",
        "outputId": "860fe8b7-42e0-4a4a-d3a1-4ff5e43b5541"
      },
      "execution_count": 7,
      "outputs": [
        {
          "output_type": "stream",
          "name": "stdout",
          "text": [
            "meow\n",
            "meow\n",
            "meow\n"
          ]
        }
      ]
    },
    {
      "cell_type": "code",
      "source": [
        "for i in range(3):\n",
        "  print(\"meow\")"
      ],
      "metadata": {
        "colab": {
          "base_uri": "https://localhost:8080/"
        },
        "collapsed": true,
        "id": "63e4ijrKka-A",
        "outputId": "452ba989-3640-4f8a-bd27-198c932bb4b8"
      },
      "execution_count": 6,
      "outputs": [
        {
          "output_type": "stream",
          "name": "stdout",
          "text": [
            "meow\n",
            "meow\n",
            "meow\n"
          ]
        }
      ]
    },
    {
      "cell_type": "code",
      "source": [
        "while True:\n",
        "  n = int(input(\"What´s n?\"))\n",
        "  if n > 0:\n",
        "    break\n",
        "\n",
        "for _ in range(n):\n",
        "  print(\"meow\")"
      ],
      "metadata": {
        "colab": {
          "base_uri": "https://localhost:8080/"
        },
        "id": "aZSB2QCgk-PS",
        "outputId": "a5babd00-8f39-438a-91fb-de89a5c1d441"
      },
      "execution_count": 10,
      "outputs": [
        {
          "output_type": "stream",
          "name": "stdout",
          "text": [
            "What´s n?-1\n",
            "What´s n?2\n",
            "meow\n",
            "meow\n"
          ]
        }
      ]
    },
    {
      "cell_type": "code",
      "source": [
        "def main():\n",
        "  number = get_number()\n",
        "  meow(number)\n",
        "\n",
        "def get_number():\n",
        "  while True:\n",
        "    n = int(input(\"What´s n?\"))\n",
        "    if n > 0:\n",
        "      break\n",
        "  return n\n",
        "\n",
        "def meow(n):\n",
        "  for _ in range(n):\n",
        "    print(\"meow\")\n",
        "\n",
        "main()\n"
      ],
      "metadata": {
        "colab": {
          "base_uri": "https://localhost:8080/"
        },
        "id": "qj5GzweFm5Np",
        "outputId": "0b2f9a74-1910-4e3a-d818-458dfbf49449"
      },
      "execution_count": 26,
      "outputs": [
        {
          "output_type": "stream",
          "name": "stdout",
          "text": [
            "What´s n?2\n",
            "meow\n",
            "meow\n"
          ]
        }
      ]
    },
    {
      "cell_type": "code",
      "source": [
        "students = [\"Harry\",\"Hermione\",\"Ron\"]\n",
        "\n",
        "for student in students:\n",
        "  print(student)"
      ],
      "metadata": {
        "colab": {
          "base_uri": "https://localhost:8080/"
        },
        "collapsed": true,
        "id": "NIelGTvbovCa",
        "outputId": "c484551f-ab7a-4ae7-8f75-23f22a551d07"
      },
      "execution_count": 28,
      "outputs": [
        {
          "output_type": "stream",
          "name": "stdout",
          "text": [
            "Harry\n",
            "Hermione\n",
            "Ron\n"
          ]
        }
      ]
    },
    {
      "cell_type": "code",
      "source": [
        "students = [\"Harry\",\"Hermione\",\"Ron\"]\n",
        "\n",
        "for i in range(len(students)):\n",
        "  print(students[i])"
      ],
      "metadata": {
        "colab": {
          "base_uri": "https://localhost:8080/"
        },
        "id": "TnWIGkiyqDjv",
        "outputId": "a6d9c7cc-a93c-40a6-f439-b94c28ff83e4"
      },
      "execution_count": 30,
      "outputs": [
        {
          "output_type": "stream",
          "name": "stdout",
          "text": [
            "Harry\n",
            "Hermione\n",
            "Ron\n"
          ]
        }
      ]
    },
    {
      "cell_type": "code",
      "source": [
        "students = {\n",
        "    \"Hermione\": \"Gryffindor\",\n",
        "    \"Harry\": \"Gryffindor\",\n",
        "    \"Ron\": \"Gryffindor\",\n",
        "    \"Draco\": \"Slytherin\",\n",
        "}\n",
        "\n",
        "for student in students:\n",
        "  print(student, students[student], sep=\", \")"
      ],
      "metadata": {
        "colab": {
          "base_uri": "https://localhost:8080/"
        },
        "id": "OCzLXpqDq8UY",
        "outputId": "71cf0f08-3bdb-4ea1-8b51-993d7f2d5caa"
      },
      "execution_count": 36,
      "outputs": [
        {
          "output_type": "stream",
          "name": "stdout",
          "text": [
            "Hermione, Gryffindor\n",
            "Harry, Gryffindor\n",
            "Ron, Gryffindor\n",
            "Draco, Slytherin\n"
          ]
        }
      ]
    },
    {
      "cell_type": "code",
      "source": [
        "students = [\n",
        "    {\"name\": \"Hermione\", \"house\": \"Gryffindor\", \"patronus\": \"Otter\"},\n",
        "    {\"name\": \"Harry\", \"house\": \"Gryffindor\", \"patronus\": \"Stag\"},\n",
        "    {\"name\": \"Ron\", \"house\": \"Gryffindor\", \"patronus\": \"Rat\"},\n",
        "    {\"name\": \"Draco\", \"house\": \"Gryffindor\", \"patronus\": None},\n",
        "]\n",
        "\n",
        "for student in students:\n",
        "  print(student[\"name\"], student[\"house\"], student[\"patronus\"], sep=\", \")"
      ],
      "metadata": {
        "colab": {
          "base_uri": "https://localhost:8080/"
        },
        "id": "2QHTJ4SPtRzq",
        "outputId": "e488d904-cdc7-4252-d4ee-2c30dbfcddd0"
      },
      "execution_count": 41,
      "outputs": [
        {
          "output_type": "stream",
          "name": "stdout",
          "text": [
            "Hermione, Gryffindor, Otter\n",
            "Harry, Gryffindor, Stag\n",
            "Ron, Gryffindor, Rat\n",
            "Draco, Gryffindor, None\n"
          ]
        }
      ]
    },
    {
      "cell_type": "code",
      "source": [
        "#Mario Bros\n",
        "def main():\n",
        "  print_column(3)\n",
        "\n",
        "def print_column(height):\n",
        "  for _ in range(height):\n",
        "    print(\"#\")\n",
        "\n",
        "main()"
      ],
      "metadata": {
        "colab": {
          "base_uri": "https://localhost:8080/"
        },
        "id": "SfGqKc09vTkK",
        "outputId": "0b72ff9f-7fe9-48d2-fb42-3e2eeb939efe"
      },
      "execution_count": 47,
      "outputs": [
        {
          "output_type": "stream",
          "name": "stdout",
          "text": [
            "#\n",
            "#\n",
            "#\n"
          ]
        }
      ]
    },
    {
      "cell_type": "code",
      "source": [
        "def main():\n",
        "  print_row(4)\n",
        "\n",
        "def print_row(width):\n",
        "  print(\"?\" * width)\n",
        "\n",
        "main()"
      ],
      "metadata": {
        "colab": {
          "base_uri": "https://localhost:8080/"
        },
        "id": "eoPayib9wZG9",
        "outputId": "50e686b3-a89a-4268-9779-4175deb58567"
      },
      "execution_count": 48,
      "outputs": [
        {
          "output_type": "stream",
          "name": "stdout",
          "text": [
            "????\n"
          ]
        }
      ]
    },
    {
      "cell_type": "code",
      "source": [
        "def main():\n",
        "  print_square(3)\n",
        "\n",
        "def print_square(size):\n",
        "  for i in range(size):\n",
        "    print(\"o\" * size)\n",
        "\n",
        "main()"
      ],
      "metadata": {
        "colab": {
          "base_uri": "https://localhost:8080/"
        },
        "id": "M2gcWZ-ww4z-",
        "outputId": "b976be5e-e5e7-4baa-eb0e-1d6f85afbeba"
      },
      "execution_count": 59,
      "outputs": [
        {
          "output_type": "stream",
          "name": "stdout",
          "text": [
            "ooo\n",
            "ooo\n",
            "ooo\n"
          ]
        }
      ]
    },
    {
      "cell_type": "code",
      "source": [
        "#Peache´s Castle Invitation FOR\n",
        "def main():\n",
        "  names = [\"Mario\",\"Luigi\",\"Yoshi\",\"Daisy\"]\n",
        "  for i in range(len(names)):\n",
        "    print(write_letter(names[i], \"Princess Peach\"))\n",
        "\n",
        "def write_letter(receiver, sender):\n",
        "  return f\"\"\"\n",
        "  ----------------------------------------\n",
        "    Dear {receiver},\n",
        "\n",
        "    You are invited to my party at 7 p.m.\n",
        "\n",
        "    Sincerely, {sender}\n",
        "  ----------------------------------------\n",
        "  \"\"\"\n",
        "\n",
        "main()"
      ],
      "metadata": {
        "colab": {
          "base_uri": "https://localhost:8080/"
        },
        "id": "v1w4rZFlPn6x",
        "outputId": "64703cab-c24a-4441-da96-a402eb22b074"
      },
      "execution_count": 9,
      "outputs": [
        {
          "output_type": "stream",
          "name": "stdout",
          "text": [
            " \n",
            "  ----------------------------------------  \n",
            "    Dear Mario, \n",
            "    \n",
            "    You are invited to my party at 7 p.m. \n",
            "    \n",
            "    Sincerely, Princess Peach\n",
            "  ----------------------------------------\n",
            "  \n",
            " \n",
            "  ----------------------------------------  \n",
            "    Dear Luigi, \n",
            "    \n",
            "    You are invited to my party at 7 p.m. \n",
            "    \n",
            "    Sincerely, Princess Peach\n",
            "  ----------------------------------------\n",
            "  \n",
            " \n",
            "  ----------------------------------------  \n",
            "    Dear Yoshi, \n",
            "    \n",
            "    You are invited to my party at 7 p.m. \n",
            "    \n",
            "    Sincerely, Princess Peach\n",
            "  ----------------------------------------\n",
            "  \n",
            " \n",
            "  ----------------------------------------  \n",
            "    Dear Daisy, \n",
            "    \n",
            "    You are invited to my party at 7 p.m. \n",
            "    \n",
            "    Sincerely, Princess Peach\n",
            "  ----------------------------------------\n",
            "  \n"
          ]
        }
      ]
    },
    {
      "cell_type": "code",
      "source": [
        "results = [\"Mario\",\"Luigi\"]\n",
        "\n",
        "results.append(\"Princess\")\n",
        "results.append(\"Yoshi\")\n",
        "\n",
        "results.append([\"Bowser\", \"Donkey Kong\"])\n",
        "results.remove([\"Bowser\", \"Donkey Kong\"])\n",
        "results.extend([\"Bowser\", \"Donkey Kong\"])\n",
        "\n",
        "print(results)"
      ],
      "metadata": {
        "colab": {
          "base_uri": "https://localhost:8080/"
        },
        "id": "PpJBoO9PTJMD",
        "outputId": "63def33b-4b83-4ae4-f078-d1d8d9e30e95"
      },
      "execution_count": 1,
      "outputs": [
        {
          "output_type": "stream",
          "name": "stdout",
          "text": [
            "['Mario', 'Luigi', 'Princess', 'Yoshi', 'Bowser', 'Donkey Kong']\n"
          ]
        }
      ]
    },
    {
      "cell_type": "code",
      "source": [
        "#Pop function\n",
        "def main():\n",
        "  history = []\n",
        "\n",
        "  while True:\n",
        "    action = input(\"Action: \")\n",
        "\n",
        "    if action == \"Undo\":\n",
        "      undone = history.pop()\n",
        "      print(f\"Undone: {undone}\")\n",
        "\n",
        "    elif action == \"Restart\":\n",
        "      history.clear()\n",
        "\n",
        "    else:\n",
        "      history.append(action)\n",
        "      print(history)\n",
        "\n",
        "main()"
      ],
      "metadata": {
        "colab": {
          "base_uri": "https://localhost:8080/"
        },
        "id": "VIFkGDn7Y6h5",
        "outputId": "dbaac857-e0d4-4970-f8d3-f343da7d30a9"
      },
      "execution_count": null,
      "outputs": [
        {
          "name": "stdout",
          "output_type": "stream",
          "text": [
            "['up']\n",
            "['up', 'undo']\n",
            "Undone: undo\n",
            "['up', 'down']\n",
            "Action: down\n"
          ]
        }
      ]
    },
    {
      "cell_type": "code",
      "source": [
        "#Latitude and Longitude TUPLES\n",
        "def main():\n",
        "  coordinates = (42.376, -71.115)\n",
        "  latitude, longitude = coordinates\n",
        "  print(f\"Latitude: {latitude}\")\n",
        "  print(f\"Longitude: {longitude}\")\n",
        "\n",
        "\n",
        "main()"
      ],
      "metadata": {
        "colab": {
          "base_uri": "https://localhost:8080/"
        },
        "id": "KTPWed3DiLql",
        "outputId": "a6ee4245-2abd-40a8-ece8-1ff4212ea42d"
      },
      "execution_count": 2,
      "outputs": [
        {
          "output_type": "stream",
          "name": "stdout",
          "text": [
            "Latitude: 42.376\n",
            "Longitude: -71.115\n"
          ]
        }
      ]
    }
  ]
}