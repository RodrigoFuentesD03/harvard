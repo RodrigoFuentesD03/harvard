{
  "nbformat": 4,
  "nbformat_minor": 0,
  "metadata": {
    "colab": {
      "provenance": [],
      "authorship_tag": "ABX9TyNnZ5w00U7ZZfkS3UQp2H1d",
      "include_colab_link": true
    },
    "kernelspec": {
      "name": "python3",
      "display_name": "Python 3"
    },
    "language_info": {
      "name": "python"
    }
  },
  "cells": [
    {
      "cell_type": "markdown",
      "metadata": {
        "id": "view-in-github",
        "colab_type": "text"
      },
      "source": [
        "<a href=\"https://colab.research.google.com/github/RodrigoFuentesD03/harvard/blob/main/API.ipynb\" target=\"_parent\"><img src=\"https://colab.research.google.com/assets/colab-badge.svg\" alt=\"Open In Colab\"/></a>"
      ]
    },
    {
      "cell_type": "code",
      "execution_count": 1,
      "metadata": {
        "colab": {
          "base_uri": "https://localhost:8080/"
        },
        "id": "rRp5rcHyHxQb",
        "outputId": "cafc8625-ec9e-4b7c-f535-0d2390551fbb"
      },
      "outputs": [
        {
          "output_type": "stream",
          "name": "stdout",
          "text": [
            "Requirement already satisfied: requests in /usr/local/lib/python3.11/dist-packages (2.32.3)\n",
            "Requirement already satisfied: charset-normalizer<4,>=2 in /usr/local/lib/python3.11/dist-packages (from requests) (3.4.2)\n",
            "Requirement already satisfied: idna<4,>=2.5 in /usr/local/lib/python3.11/dist-packages (from requests) (3.10)\n",
            "Requirement already satisfied: urllib3<3,>=1.21.1 in /usr/local/lib/python3.11/dist-packages (from requests) (2.5.0)\n",
            "Requirement already satisfied: certifi>=2017.4.17 in /usr/local/lib/python3.11/dist-packages (from requests) (2025.7.14)\n"
          ]
        }
      ],
      "source": [
        "pip install requests"
      ]
    },
    {
      "cell_type": "code",
      "source": [
        "import requests\n",
        "import json\n",
        "\n",
        "# Define the search term directly in the code\n",
        "search_term = \"Eminem\" # You can change this to your desired search term\n",
        "\n",
        "response = requests.get(\"https://itunes.apple.com/search?entity=song&limit=10&term=\" + search_term)\n",
        "\n",
        "o = response.json()\n",
        "for result in o[\"results\"]:\n",
        "  print(result[\"trackName\"])"
      ],
      "metadata": {
        "colab": {
          "base_uri": "https://localhost:8080/"
        },
        "id": "Pkznzzj9H3bi",
        "outputId": "d0cb5122-a605-4f4a-b8ed-15fd73bfa999"
      },
      "execution_count": 2,
      "outputs": [
        {
          "output_type": "stream",
          "name": "stdout",
          "text": [
            "Here Comes the Weekend (feat. Eminem)\n",
            "Dead Wrong (feat. Eminem) [2007 Remaster]\n",
            "Eminem (LP Version)\n",
            "Revenge (feat. Eminem)\n",
            "Without Me\n",
            "Lean Back (Remix) [feat. Lil Jon, Eminem, Mase & Remy Martin]\n",
            "'Till I Collapse (feat. Nate Dogg)\n",
            "Airplanes, Part II (feat. Eminem & Hayley Williams)\n",
            "Eminem\n",
            "Dead Wrong (feat. Eminem) [2005 Remaster]\n",
            "Remember The Name (feat. Eminem & 50 Cent)\n",
            "Speedom (Wwc2) [feat. Eminem & Krizz Kaliko]\n"
          ]
        }
      ]
    },
    {
      "cell_type": "code",
      "source": [
        "#Search for an artist in The Art Institute\n",
        "import requests\n",
        "\n",
        "def main():\n",
        "  print(\"Search the Art Institute of Chicago\")\n",
        "  artist = input(\"Artist: \")\n",
        "\n",
        "  try:\n",
        "    response = requests.get(\n",
        "        \"https://api.artic.edu/api/v1/artworks/search\",\n",
        "        {\"q\": artist}\n",
        "\n",
        "    )\n",
        "    response.raise_for_status()\n",
        "  except requests.HTTPError:\n",
        "    print(\"Couldn´t complete request.\")\n",
        "    return\n",
        "\n",
        "  content = response.json()\n",
        "  for artwork in content[\"data\"]:\n",
        "    print(f\"* {artwork['title']}\")\n",
        "\n",
        "\n",
        "\n",
        "main()"
      ],
      "metadata": {
        "colab": {
          "base_uri": "https://localhost:8080/"
        },
        "id": "zCyTSQAjM4gM",
        "outputId": "67426daa-d276-4e74-9a59-5e23f9346b4b"
      },
      "execution_count": 14,
      "outputs": [
        {
          "output_type": "stream",
          "name": "stdout",
          "text": [
            "Search the Art Institute of Chicago\n",
            "Artist: Picasso\n",
            "* The Old Guitarist\n",
            "* Daniel-Henry Kahnweiler\n",
            "* The Red Armchair\n",
            "* Mother and Child\n",
            "* Man with a Pipe\n",
            "* Portrait of Pablo Picasso\n",
            "* Head of a Woman (Fernande)\n",
            "* Nude under a Pine Tree\n",
            "* Weeping Woman I\n",
            "* Portrait of Picasso\n"
          ]
        }
      ]
    },
    {
      "cell_type": "code",
      "source": [
        "pip install black"
      ],
      "metadata": {
        "colab": {
          "base_uri": "https://localhost:8080/"
        },
        "id": "gyToTOGyRVDe",
        "outputId": "ea920d3d-46a2-4462-d139-4c18dfb4c06f"
      },
      "execution_count": 16,
      "outputs": [
        {
          "output_type": "stream",
          "name": "stdout",
          "text": [
            "Collecting black\n",
            "  Downloading black-25.1.0-cp311-cp311-manylinux_2_17_x86_64.manylinux2014_x86_64.manylinux_2_28_x86_64.whl.metadata (81 kB)\n",
            "\u001b[2K     \u001b[90m━━━━━━━━━━━━━━━━━━━━━━━━━━━━━━━━━━━━━━━\u001b[0m \u001b[32m81.3/81.3 kB\u001b[0m \u001b[31m562.3 kB/s\u001b[0m eta \u001b[36m0:00:00\u001b[0m\n",
            "\u001b[?25hRequirement already satisfied: click>=8.0.0 in /usr/local/lib/python3.11/dist-packages (from black) (8.2.1)\n",
            "Collecting mypy-extensions>=0.4.3 (from black)\n",
            "  Downloading mypy_extensions-1.1.0-py3-none-any.whl.metadata (1.1 kB)\n",
            "Requirement already satisfied: packaging>=22.0 in /usr/local/lib/python3.11/dist-packages (from black) (25.0)\n",
            "Collecting pathspec>=0.9.0 (from black)\n",
            "  Downloading pathspec-0.12.1-py3-none-any.whl.metadata (21 kB)\n",
            "Requirement already satisfied: platformdirs>=2 in /usr/local/lib/python3.11/dist-packages (from black) (4.3.8)\n",
            "Downloading black-25.1.0-cp311-cp311-manylinux_2_17_x86_64.manylinux2014_x86_64.manylinux_2_28_x86_64.whl (1.7 MB)\n",
            "\u001b[2K   \u001b[90m━━━━━━━━━━━━━━━━━━━━━━━━━━━━━━━━━━━━━━━━\u001b[0m \u001b[32m1.7/1.7 MB\u001b[0m \u001b[31m6.8 MB/s\u001b[0m eta \u001b[36m0:00:00\u001b[0m\n",
            "\u001b[?25hDownloading mypy_extensions-1.1.0-py3-none-any.whl (5.0 kB)\n",
            "Downloading pathspec-0.12.1-py3-none-any.whl (31 kB)\n",
            "Installing collected packages: pathspec, mypy-extensions, black\n",
            "Successfully installed black-25.1.0 mypy-extensions-1.1.0 pathspec-0.12.1\n"
          ]
        }
      ]
    }
  ]
}