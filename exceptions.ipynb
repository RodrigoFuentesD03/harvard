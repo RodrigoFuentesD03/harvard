{
  "nbformat": 4,
  "nbformat_minor": 0,
  "metadata": {
    "colab": {
      "provenance": [],
      "authorship_tag": "ABX9TyPCp46cO4RwzTp0ZEADvC8T",
      "include_colab_link": true
    },
    "kernelspec": {
      "name": "python3",
      "display_name": "Python 3"
    },
    "language_info": {
      "name": "python"
    }
  },
  "cells": [
    {
      "cell_type": "markdown",
      "metadata": {
        "id": "view-in-github",
        "colab_type": "text"
      },
      "source": [
        "<a href=\"https://colab.research.google.com/github/RodrigoFuentesD03/harvard/blob/main/exceptions.ipynb\" target=\"_parent\"><img src=\"https://colab.research.google.com/assets/colab-badge.svg\" alt=\"Open In Colab\"/></a>"
      ]
    },
    {
      "cell_type": "code",
      "execution_count": 14,
      "metadata": {
        "colab": {
          "base_uri": "https://localhost:8080/"
        },
        "id": "qFuA1dWYly6X",
        "outputId": "44fa583e-dd99-4b9d-d1da-f4dae255c5f6"
      },
      "outputs": [
        {
          "output_type": "stream",
          "name": "stdout",
          "text": [
            "What´s x? 3\n",
            "x is 3\n"
          ]
        }
      ],
      "source": [
        "def main():\n",
        "  x = get_int()\n",
        "  print(f\"x is {x}\")\n",
        "\n",
        "def get_int():\n",
        "  while True:\n",
        "    try:\n",
        "      x = int(input(\"What´s x? \"))\n",
        "    except ValueError:\n",
        "      print(\"x is not an integer\")\n",
        "    else:\n",
        "      return x\n",
        "\n",
        "main()"
      ]
    },
    {
      "cell_type": "code",
      "source": [
        "#Mario Pyramid\n",
        "def main():\n",
        "  height = int(input(\"Height: \"))\n",
        "  pyramid(height)\n",
        "\n",
        "def pyramid(n):\n",
        "  for i in range(n):\n",
        "    print(\"#\" * i)\n",
        "\n",
        "if __name__ == \"__main__\":\n",
        "  main()"
      ],
      "metadata": {
        "colab": {
          "base_uri": "https://localhost:8080/"
        },
        "id": "pzfyQINn1d6b",
        "outputId": "830375e2-9cde-467d-eff9-90b17e99e791"
      },
      "execution_count": 15,
      "outputs": [
        {
          "output_type": "stream",
          "name": "stdout",
          "text": [
            "Height: 5\n",
            "\n",
            "#\n",
            "##\n",
            "###\n",
            "####\n"
          ]
        }
      ]
    },
    {
      "cell_type": "code",
      "source": [
        "#Minutes per Kilometer\n",
        "def main():\n",
        "  km = float(input(\"How many kilometers did you run? \"))\n",
        "  minutes = float(input(\"How many minutes did it take?\"))\n",
        "  pace = get_pace(km, minutes)\n",
        "  print(f\"Your pace is {pace:.2f} minutes per kilometer\")\n",
        "\n",
        "def get_pace(kilometers, minutes):\n",
        "  pace = minutes / kilometers\n",
        "  return pace\n",
        "\n",
        "\n",
        "main()"
      ],
      "metadata": {
        "colab": {
          "base_uri": "https://localhost:8080/"
        },
        "id": "_SLQw36X7Txr",
        "outputId": "26cad838-01b8-49a5-b5ad-baae5aca318d"
      },
      "execution_count": 3,
      "outputs": [
        {
          "output_type": "stream",
          "name": "stdout",
          "text": [
            "How many kilometers did you run? 10\n",
            "How many minutes did it take?120\n",
            "Your pace is 12.00 minutes per kilometer\n"
          ]
        }
      ]
    }
  ]
}