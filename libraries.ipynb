{
  "nbformat": 4,
  "nbformat_minor": 0,
  "metadata": {
    "colab": {
      "provenance": [],
      "authorship_tag": "ABX9TyOpLK+bhSwR0fvz294S2hiv",
      "include_colab_link": true
    },
    "kernelspec": {
      "name": "python3",
      "display_name": "Python 3"
    },
    "language_info": {
      "name": "python"
    }
  },
  "cells": [
    {
      "cell_type": "markdown",
      "metadata": {
        "id": "view-in-github",
        "colab_type": "text"
      },
      "source": [
        "<a href=\"https://colab.research.google.com/github/RodrigoFuentesD03/harvard/blob/main/libraries.ipynb\" target=\"_parent\"><img src=\"https://colab.research.google.com/assets/colab-badge.svg\" alt=\"Open In Colab\"/></a>"
      ]
    },
    {
      "cell_type": "code",
      "execution_count": 16,
      "metadata": {
        "colab": {
          "base_uri": "https://localhost:8080/"
        },
        "id": "CYhJ0w9Gbtss",
        "outputId": "9b37d626-a54e-48e8-ca91-b5a1e73f9e04"
      },
      "outputs": [
        {
          "output_type": "stream",
          "name": "stdout",
          "text": [
            "tails\n"
          ]
        }
      ],
      "source": [
        "#Heads or Tails\n",
        "import random as rm\n",
        "\n",
        "coin = rm.choice([\"heads\", \"tails\"])\n",
        "\n",
        "def main():\n",
        "  print(coin)\n",
        "\n",
        "main()"
      ]
    },
    {
      "cell_type": "code",
      "source": [
        "#random number\n",
        "number = rm.randint(1, 10)\n",
        "print(number)"
      ],
      "metadata": {
        "colab": {
          "base_uri": "https://localhost:8080/"
        },
        "id": "e5n0Odg2dwuf",
        "outputId": "6f53b5b2-0527-4e36-d63a-70c189144c18"
      },
      "execution_count": 31,
      "outputs": [
        {
          "output_type": "stream",
          "name": "stdout",
          "text": [
            "9\n"
          ]
        }
      ]
    },
    {
      "cell_type": "code",
      "source": [
        "#shuffle cards\n",
        "cards = [\"jack\", \"queen\", \"king\"]\n",
        "rm.shuffle(cards)\n",
        "for card in cards:\n",
        "  print(card)"
      ],
      "metadata": {
        "colab": {
          "base_uri": "https://localhost:8080/"
        },
        "id": "bL3YKRObeDnM",
        "outputId": "d34c8603-6815-448c-c504-d2ae06fcd6b0"
      },
      "execution_count": 47,
      "outputs": [
        {
          "output_type": "stream",
          "name": "stdout",
          "text": [
            "king\n",
            "queen\n",
            "jack\n"
          ]
        }
      ]
    },
    {
      "cell_type": "code",
      "source": [
        "import statistics as st\n",
        "\n",
        "print(st.mean([1, 2, 3, 4, 5]))\n",
        "print(st.median([1, 2, 3, 4, 5]))\n",
        "print(st.mode([1, 2, 3, 4, 5]))"
      ],
      "metadata": {
        "colab": {
          "base_uri": "https://localhost:8080/"
        },
        "id": "QD2aPe36fXyf",
        "outputId": "bfdcb06a-9a02-48bf-ef18-a6f6fc7bfe36"
      },
      "execution_count": 53,
      "outputs": [
        {
          "output_type": "stream",
          "name": "stdout",
          "text": [
            "3\n",
            "3\n",
            "1\n"
          ]
        }
      ]
    },
    {
      "cell_type": "code",
      "source": [
        "pip install requests"
      ],
      "metadata": {
        "colab": {
          "base_uri": "https://localhost:8080/"
        },
        "id": "5pv5iKEchjfb",
        "outputId": "5336e957-9223-4cbd-9966-9d7fc1af6bc7"
      },
      "execution_count": 1,
      "outputs": [
        {
          "output_type": "stream",
          "name": "stdout",
          "text": [
            "Requirement already satisfied: requests in /usr/local/lib/python3.11/dist-packages (2.32.3)\n",
            "Requirement already satisfied: charset-normalizer<4,>=2 in /usr/local/lib/python3.11/dist-packages (from requests) (3.4.2)\n",
            "Requirement already satisfied: idna<4,>=2.5 in /usr/local/lib/python3.11/dist-packages (from requests) (3.10)\n",
            "Requirement already satisfied: urllib3<3,>=1.21.1 in /usr/local/lib/python3.11/dist-packages (from requests) (2.5.0)\n",
            "Requirement already satisfied: certifi>=2017.4.17 in /usr/local/lib/python3.11/dist-packages (from requests) (2025.7.14)\n"
          ]
        }
      ]
    },
    {
      "cell_type": "code",
      "source": [
        "import requests\n",
        "import json\n",
        "\n",
        "# Define the search term directly in the code\n",
        "search_term = \"sia\" # You can change this to your desired search term\n",
        "\n",
        "response = requests.get(\"https://itunes.apple.com/search?entity=song&limit=10&term=\" + search_term)\n",
        "\n",
        "o = response.json()\n",
        "for result in o[\"results\"]:\n",
        "  print(result[\"trackName\"])"
      ],
      "metadata": {
        "colab": {
          "base_uri": "https://localhost:8080/"
        },
        "id": "jAre1SuFkHk6",
        "outputId": "95d65451-70cd-4cca-8aa5-ddd3c3c060c0"
      },
      "execution_count": 10,
      "outputs": [
        {
          "output_type": "stream",
          "name": "stdout",
          "text": [
            "Titanium (feat. Sia)\n",
            "Wild Ones (feat. Sia)\n",
            "Wild Ones (feat. Sia)\n",
            "Chandelier\n",
            "Dusk Till Dawn (feat. Sia)\n",
            "Elastic Heart\n",
            "Opportunity (Sia Version)\n",
            "Cheap Thrills (feat. Sean Paul)\n",
            "Bang My Head (feat. Sia)\n",
            "Cheap Thrills\n"
          ]
        }
      ]
    }
  ]
}